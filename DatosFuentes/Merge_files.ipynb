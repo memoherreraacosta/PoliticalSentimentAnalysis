{
 "cells": [
  {
   "cell_type": "code",
   "execution_count": 21,
   "metadata": {},
   "outputs": [],
   "source": [
    "import os"
   ]
  },
  {
   "cell_type": "code",
   "execution_count": 22,
   "metadata": {},
   "outputs": [],
   "source": [
    "arr = os.listdir()"
   ]
  },
  {
   "cell_type": "code",
   "execution_count": 27,
   "metadata": {},
   "outputs": [
    {
     "ename": "ValueError",
     "evalue": "list.remove(x): x not in list",
     "output_type": "error",
     "traceback": [
      "\u001b[0;31m---------------------------------------------------------------------------\u001b[0m",
      "\u001b[0;31mValueError\u001b[0m                                Traceback (most recent call last)",
      "\u001b[0;32m<ipython-input-27-333d094e62b8>\u001b[0m in \u001b[0;36m<module>\u001b[0;34m\u001b[0m\n\u001b[1;32m      1\u001b[0m \u001b[0marr\u001b[0m\u001b[0;34m.\u001b[0m\u001b[0mremove\u001b[0m\u001b[0;34m(\u001b[0m\u001b[0;34m\"all_data.csv\"\u001b[0m\u001b[0;34m)\u001b[0m\u001b[0;34m\u001b[0m\u001b[0;34m\u001b[0m\u001b[0m\n\u001b[0;32m----> 2\u001b[0;31m \u001b[0marr\u001b[0m\u001b[0;34m.\u001b[0m\u001b[0mremove\u001b[0m\u001b[0;34m(\u001b[0m\u001b[0;34m\".ipynb_checkpoints\"\u001b[0m\u001b[0;34m)\u001b[0m\u001b[0;34m\u001b[0m\u001b[0;34m\u001b[0m\u001b[0m\n\u001b[0m\u001b[1;32m      3\u001b[0m \u001b[0marr\u001b[0m\u001b[0;34m.\u001b[0m\u001b[0mremove\u001b[0m\u001b[0;34m(\u001b[0m\u001b[0;34m\"Untitled.ipynb\"\u001b[0m\u001b[0;34m)\u001b[0m\u001b[0;34m\u001b[0m\u001b[0;34m\u001b[0m\u001b[0m\n",
      "\u001b[0;31mValueError\u001b[0m: list.remove(x): x not in list"
     ]
    }
   ],
   "source": [
    "arr.remove(\"all_data.csv\")\n",
    "arr.remove(\".ipynb_checkpoints\")\n",
    "arr.remove(\"Untitled.ipynb\")"
   ]
  },
  {
   "cell_type": "code",
   "execution_count": 28,
   "metadata": {},
   "outputs": [
    {
     "data": {
      "text/plain": [
       "['molotovmx.csv',\n",
       " 'CiroGomezL.csv',\n",
       " 'ChumelTorres.csv',\n",
       " 'VRubioMarquez.csv',\n",
       " 'AntonioAttolini.csv',\n",
       " 'ADNPolitico.csv',\n",
       " 'brozoxmiswebs.csv',\n",
       " 'El_Universal_Mx.csv',\n",
       " 'samuel_garcias.csv',\n",
       " 'elpais_america.csv',\n",
       " 'RicardoAnayaC.csv',\n",
       " 'politicomx.csv',\n",
       " 'reformanacional.csv',\n",
       " 'aguilarcamin.csv',\n",
       " 'LeonKrauze.csv',\n",
       " 'DeniseDresserG.csv',\n",
       " 'JLozanoA.csv',\n",
       " 'Milenio.csv',\n",
       " 'EnriqueKrauze.csv',\n",
       " 'PMunozLedo.csv',\n",
       " 'epigmenioibarra.csv',\n",
       " 'eleconomista.csv',\n",
       " 'mario_delgado.csv',\n",
       " 'leozuckermann.csv',\n",
       " 'carlosloret.csv',\n",
       " 'lajornadaonline.csv',\n",
       " 'JLMNoticias.csv',\n",
       " 'sabinaberman.csv',\n",
       " 'jorgeramosnews.csv',\n",
       " 'Javier_Alatorre.csv',\n",
       " 'CNNEE.csv',\n",
       " 'LeonardoCurzio.csv',\n",
       " 'reforma.csv',\n",
       " 'gibranrr.csv',\n",
       " 'anafvega.csv',\n",
       " 'rivapa.csv',\n",
       " 'AristeguiOnline.csv',\n",
       " 'elheraldo_mx.csv',\n",
       " 'ElFinanciero_Mx.csv',\n",
       " 'VicenteFoxQue.csv',\n",
       " 'IfigeniaMtz.csv',\n",
       " 'DeniseMaerker.csv',\n",
       " 'V_TrujilloM.csv',\n",
       " 'PedroFerriz.csv',\n",
       " 'revistaproceso.csv',\n",
       " 'MexicoComoVamos.csv',\n",
       " 'MBarbosaMX.csv',\n",
       " 'lopezdoriga.csv',\n",
       " 'PRI_Nacional.csv']"
      ]
     },
     "execution_count": 28,
     "metadata": {},
     "output_type": "execute_result"
    }
   ],
   "source": [
    "arr"
   ]
  },
  {
   "cell_type": "code",
   "execution_count": 29,
   "metadata": {},
   "outputs": [],
   "source": [
    "fout=open(\"all_data.csv\",\"a\")\n",
    "\n",
    "for line in open(arr[0]):\n",
    "    fout.write(line)\n",
    "\n",
    "for d in arr[1:]:\n",
    "    f = open(d)\n",
    "    r = f.readlines()[1:]\n",
    "    fout.write(\"\\n\".join(r))\n",
    "    f.close()\n",
    "    \n",
    "fout.close()"
   ]
  },
  {
   "cell_type": "code",
   "execution_count": null,
   "metadata": {},
   "outputs": [],
   "source": []
  }
 ],
 "metadata": {
  "kernelspec": {
   "display_name": "Python 3",
   "language": "python",
   "name": "python3"
  },
  "language_info": {
   "codemirror_mode": {
    "name": "ipython",
    "version": 3
   },
   "file_extension": ".py",
   "mimetype": "text/x-python",
   "name": "python",
   "nbconvert_exporter": "python",
   "pygments_lexer": "ipython3",
   "version": "3.7.1"
  }
 },
 "nbformat": 4,
 "nbformat_minor": 2
}
