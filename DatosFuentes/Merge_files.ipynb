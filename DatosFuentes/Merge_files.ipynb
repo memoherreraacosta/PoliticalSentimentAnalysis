{
 "cells": [
  {
   "cell_type": "code",
   "execution_count": 76,
   "metadata": {},
   "outputs": [],
   "source": [
    "import os"
   ]
  },
  {
   "cell_type": "code",
   "execution_count": 77,
   "metadata": {},
   "outputs": [],
   "source": [
    "topico = \"tech\"\n",
    "path = \"./{0}/\".format(topico)"
   ]
  },
  {
   "cell_type": "code",
   "execution_count": 78,
   "metadata": {},
   "outputs": [],
   "source": [
    "arr = os.listdir(path)"
   ]
  },
  {
   "cell_type": "code",
   "execution_count": 79,
   "metadata": {},
   "outputs": [
    {
     "name": "stdout",
     "output_type": "stream",
     "text": [
      "list.remove(x): x not in list\n"
     ]
    }
   ],
   "source": [
    "try:\n",
    "    arr.remove(\"all_data.csv\")\n",
    "    arr.remove(\".ipynb_checkpoints\")\n",
    "    arr.remove(\"Untitled.ipynb\")\n",
    "except ValueError as ve:\n",
    "    print(ve)"
   ]
  },
  {
   "cell_type": "code",
   "execution_count": 80,
   "metadata": {},
   "outputs": [
    {
     "data": {
      "text/plain": [
       "['getFANDOM.csv',\n",
       " 'EpicGames.csv',\n",
       " 'michaelphigham.csv',\n",
       " 'PlayStation.csv',\n",
       " 'WIRED.csv',\n",
       " 'LootGamingHQ.csv',\n",
       " 'yozetty.csv',\n",
       " 'PanicButtonGame.csv',\n",
       " 'Jazzzy.csv',\n",
       " 'TIME.csv',\n",
       " 'yosp.csv',\n",
       " 'cnni.csv',\n",
       " 'TwitterGaming.csv',\n",
       " 'ASTROGaming.csv',\n",
       " 'SkyNews.csv',\n",
       " '_mikezuba.csv',\n",
       " 'Steam.csv',\n",
       " 'Twitch.csv',\n",
       " 'Charalanahzard.csv',\n",
       " 'realnewsgeek.csv',\n",
       " 'DOOM.csv',\n",
       " 'inkydojikko.csv',\n",
       " '9GAG.csv',\n",
       " 'GameSpot.csv',\n",
       " 'NoMansSky.csv',\n",
       " 'GameStop.csv',\n",
       " 'Razer.csv',\n",
       " 'tha_rami.csv',\n",
       " 'TechCrunch.csv',\n",
       " 'jackboxgames.csv',\n",
       " 'geoffkeighley.csv',\n",
       " 'VergeScience.csv',\n",
       " 'FacebookGaming.csv',\n",
       " 'sophiatong.csv',\n",
       " 'tamoorh.csv',\n",
       " 'IGDA.csv',\n",
       " 'streamlabs.csv',\n",
       " 'eurogamer.csv',\n",
       " 'BloodyfasterTV.csv',\n",
       " 'verge.csv',\n",
       " 'Reuters.csv',\n",
       " 'thegameawards.csv',\n",
       " 'LinusTech.csv',\n",
       " 'EA.csv',\n",
       " 'EddieMakuch.csv',\n",
       " 'CBSi.csv',\n",
       " 'WatchMixer.csv',\n",
       " 'justin_moore.csv',\n",
       " 'YouTubeGaming.csv',\n",
       " 'CNN.csv']"
      ]
     },
     "execution_count": 80,
     "metadata": {},
     "output_type": "execute_result"
    }
   ],
   "source": [
    "arr"
   ]
  },
  {
   "cell_type": "code",
   "execution_count": 81,
   "metadata": {},
   "outputs": [],
   "source": [
    "arr = [path + doc for doc in arr]\n",
    "fout=open(\"all_data_{0}.csv\".format(topico),\"a\")\n",
    "\n",
    "for line in open(arr[0]):\n",
    "    fout.write(line)\n",
    "\n",
    "for d in arr[1:]:\n",
    "    f = open(d)\n",
    "    r = f.readlines()[1:]\n",
    "    fout.write(\"\\n\".join(r))\n",
    "    f.close()\n",
    "    \n",
    "fout.close()"
   ]
  },
  {
   "cell_type": "code",
   "execution_count": null,
   "metadata": {},
   "outputs": [],
   "source": []
  }
 ],
 "metadata": {
  "kernelspec": {
   "display_name": "Python 3",
   "language": "python",
   "name": "python3"
  },
  "language_info": {
   "codemirror_mode": {
    "name": "ipython",
    "version": 3
   },
   "file_extension": ".py",
   "mimetype": "text/x-python",
   "name": "python",
   "nbconvert_exporter": "python",
   "pygments_lexer": "ipython3",
   "version": "3.7.1"
  }
 },
 "nbformat": 4,
 "nbformat_minor": 2
}
