{
 "cells": [
  {
   "cell_type": "code",
   "execution_count": 38,
   "metadata": {},
   "outputs": [],
   "source": [
    "import os"
   ]
  },
  {
   "cell_type": "code",
   "execution_count": 52,
   "metadata": {},
   "outputs": [],
   "source": [
    "path = \"./Politica/\""
   ]
  },
  {
   "cell_type": "code",
   "execution_count": 53,
   "metadata": {},
   "outputs": [],
   "source": [
    "arr = os.listdir(path)"
   ]
  },
  {
   "cell_type": "code",
   "execution_count": 54,
   "metadata": {},
   "outputs": [
    {
     "name": "stdout",
     "output_type": "stream",
     "text": [
      "list.remove(x): x not in list\n"
     ]
    }
   ],
   "source": [
    "try:\n",
    "    arr.remove(\"all_data.csv\")\n",
    "    arr.remove(\".ipynb_checkpoints\")\n",
    "    arr.remove(\"Untitled.ipynb\")\n",
    "except ValueError as ve:\n",
    "    print(ve)"
   ]
  },
  {
   "cell_type": "code",
   "execution_count": 55,
   "metadata": {},
   "outputs": [
    {
     "data": {
      "text/plain": [
       "['molotovmx.csv',\n",
       " 'CiroGomezL.csv',\n",
       " 'ChumelTorres.csv',\n",
       " 'VRubioMarquez.csv',\n",
       " 'AntonioAttolini.csv',\n",
       " 'brozoxmiswebs.csv',\n",
       " 'El_Universal_Mx.csv',\n",
       " 'samuel_garcias.csv',\n",
       " 'elpais_america.csv',\n",
       " 'RicardoAnayaC.csv',\n",
       " 'politicomx.csv',\n",
       " 'reformanacional.csv',\n",
       " 'aguilarcamin.csv',\n",
       " 'LeonKrauze.csv',\n",
       " 'DeniseDresserG.csv',\n",
       " 'JLozanoA.csv',\n",
       " 'Milenio.csv',\n",
       " 'EnriqueKrauze.csv',\n",
       " 'PMunozLedo.csv',\n",
       " 'epigmenioibarra.csv',\n",
       " 'eleconomista.csv',\n",
       " 'mario_delgado.csv',\n",
       " 'leozuckermann.csv',\n",
       " 'carlosloret.csv',\n",
       " 'lajornadaonline.csv',\n",
       " 'JLMNoticias.csv',\n",
       " 'sabinaberman.csv',\n",
       " 'jorgeramosnews.csv',\n",
       " 'Javier_Alatorre.csv',\n",
       " 'CNNEE.csv',\n",
       " 'LeonardoCurzio.csv',\n",
       " 'reforma.csv',\n",
       " 'gibranrr.csv',\n",
       " 'anafvega.csv',\n",
       " 'rivapa.csv',\n",
       " 'AristeguiOnline.csv',\n",
       " 'elheraldo_mx.csv',\n",
       " 'ElFinanciero_Mx.csv',\n",
       " 'VicenteFoxQue.csv',\n",
       " 'IfigeniaMtz.csv',\n",
       " 'DeniseMaerker.csv',\n",
       " 'V_TrujilloM.csv',\n",
       " 'PedroFerriz.csv',\n",
       " 'MexicoComoVamos.csv',\n",
       " 'MBarbosaMX.csv',\n",
       " 'lopezdoriga.csv',\n",
       " 'PRI_Nacional.csv']"
      ]
     },
     "execution_count": 55,
     "metadata": {},
     "output_type": "execute_result"
    }
   ],
   "source": [
    "arr"
   ]
  },
  {
   "cell_type": "code",
   "execution_count": 51,
   "metadata": {},
   "outputs": [
    {
     "ename": "FileNotFoundError",
     "evalue": "[Errno 2] No such file or directory: 'molotovmx.csv'",
     "output_type": "error",
     "traceback": [
      "\u001b[0;31m---------------------------------------------------------------------------\u001b[0m",
      "\u001b[0;31mFileNotFoundError\u001b[0m                         Traceback (most recent call last)",
      "\u001b[0;32m<ipython-input-51-6c575f40b4ce>\u001b[0m in \u001b[0;36m<module>\u001b[0;34m\u001b[0m\n\u001b[1;32m      1\u001b[0m \u001b[0mfout\u001b[0m\u001b[0;34m=\u001b[0m\u001b[0mopen\u001b[0m\u001b[0;34m(\u001b[0m\u001b[0;34m\"all_data.csv\"\u001b[0m\u001b[0;34m,\u001b[0m\u001b[0;34m\"a\"\u001b[0m\u001b[0;34m)\u001b[0m\u001b[0;34m\u001b[0m\u001b[0;34m\u001b[0m\u001b[0m\n\u001b[1;32m      2\u001b[0m \u001b[0;34m\u001b[0m\u001b[0m\n\u001b[0;32m----> 3\u001b[0;31m \u001b[0;32mfor\u001b[0m \u001b[0mline\u001b[0m \u001b[0;32min\u001b[0m \u001b[0mopen\u001b[0m\u001b[0;34m(\u001b[0m\u001b[0marr\u001b[0m\u001b[0;34m[\u001b[0m\u001b[0;36m0\u001b[0m\u001b[0;34m]\u001b[0m\u001b[0;34m)\u001b[0m\u001b[0;34m:\u001b[0m\u001b[0;34m\u001b[0m\u001b[0;34m\u001b[0m\u001b[0m\n\u001b[0m\u001b[1;32m      4\u001b[0m     \u001b[0mfout\u001b[0m\u001b[0;34m.\u001b[0m\u001b[0mwrite\u001b[0m\u001b[0;34m(\u001b[0m\u001b[0mline\u001b[0m\u001b[0;34m)\u001b[0m\u001b[0;34m\u001b[0m\u001b[0;34m\u001b[0m\u001b[0m\n\u001b[1;32m      5\u001b[0m \u001b[0;34m\u001b[0m\u001b[0m\n",
      "\u001b[0;31mFileNotFoundError\u001b[0m: [Errno 2] No such file or directory: 'molotovmx.csv'"
     ]
    }
   ],
   "source": [
    "arr = [path + ]\n",
    "fout=open(path + \"all_data.csv\",\"a\")\n",
    "\n",
    "for line in open(arr[0]):\n",
    "    fout.write(line)\n",
    "\n",
    "for d in arr[1:]:\n",
    "    f = open(d)\n",
    "    r = f.readlines()[1:]\n",
    "    fout.write(\"\\n\".join(r))\n",
    "    f.close()\n",
    "    \n",
    "fout.close()"
   ]
  },
  {
   "cell_type": "code",
   "execution_count": null,
   "metadata": {},
   "outputs": [],
   "source": []
  }
 ],
 "metadata": {
  "kernelspec": {
   "display_name": "Python 3",
   "language": "python",
   "name": "python3"
  },
  "language_info": {
   "codemirror_mode": {
    "name": "ipython",
    "version": 3
   },
   "file_extension": ".py",
   "mimetype": "text/x-python",
   "name": "python",
   "nbconvert_exporter": "python",
   "pygments_lexer": "ipython3",
   "version": "3.7.1"
  }
 },
 "nbformat": 4,
 "nbformat_minor": 2
}
