{
 "cells": [
  {
   "cell_type": "code",
   "execution_count": 2,
   "metadata": {},
   "outputs": [],
   "source": [
    "import os"
   ]
  },
  {
   "cell_type": "code",
   "execution_count": 3,
   "metadata": {},
   "outputs": [],
   "source": [
    "topico = \"ps\"\n",
    "path = \"./{0}/\".format(topico)"
   ]
  },
  {
   "cell_type": "code",
   "execution_count": 4,
   "metadata": {},
   "outputs": [],
   "source": [
    "arr = os.listdir(path)"
   ]
  },
  {
   "cell_type": "code",
   "execution_count": 5,
   "metadata": {},
   "outputs": [
    {
     "name": "stdout",
     "output_type": "stream",
     "text": [
      "list.remove(x): x not in list\n"
     ]
    }
   ],
   "source": [
    "try:\n",
    "    arr.remove(\"all_data.csv\")\n",
    "    arr.remove(\".ipynb_checkpoints\")\n",
    "    arr.remove(\"Untitled.ipynb\")\n",
    "except ValueError as ve:\n",
    "    print(ve)"
   ]
  },
  {
   "cell_type": "code",
   "execution_count": 6,
   "metadata": {},
   "outputs": [
    {
     "data": {
      "text/plain": [
       "['getFANDOM.csv',\n",
       " 'EpicGames.csv',\n",
       " 'michaelphigham.csv',\n",
       " 'PlayStation.csv',\n",
       " 'JeffGrubb.csv',\n",
       " 'WIRED.csv',\n",
       " 'aarongreenberg.csv',\n",
       " 'LootGamingHQ.csv',\n",
       " 'yozetty.csv',\n",
       " 'PanicButtonGame.csv',\n",
       " 'Jazzzy.csv',\n",
       " 'TIME.csv',\n",
       " 'yosp.csv',\n",
       " 'cnni.csv',\n",
       " 'TwitterGaming.csv',\n",
       " 'majornelson.csv',\n",
       " 'ASTROGaming.csv',\n",
       " 'SkyNews.csv',\n",
       " '_mikezuba.csv',\n",
       " 'Steam.csv',\n",
       " 'Twitch.csv',\n",
       " 'Charalanahzard.csv',\n",
       " 'realnewsgeek.csv',\n",
       " 'DOOM.csv',\n",
       " 'inkydojikko.csv',\n",
       " '9GAG.csv',\n",
       " 'GameSpot.csv',\n",
       " 'NoMansSky.csv',\n",
       " 'GameStop.csv',\n",
       " 'albertpenello.csv',\n",
       " 'HYPEBEAST.csv',\n",
       " 'Razer.csv',\n",
       " 'tha_rami.csv',\n",
       " 'TechCrunch.csv',\n",
       " 'jackboxgames.csv',\n",
       " 'JezCorden.csv',\n",
       " 'geoffkeighley.csv',\n",
       " 'RyneWallin.csv',\n",
       " 'VergeScience.csv',\n",
       " 'FacebookGaming.csv',\n",
       " 'sophiatong.csv',\n",
       " 'tamoorh.csv',\n",
       " 'IGDA.csv',\n",
       " 'streamlabs.csv',\n",
       " 'eurogamer.csv',\n",
       " 'BloodyfasterTV.csv',\n",
       " 'verge.csv',\n",
       " 'Reuters.csv',\n",
       " 'thegameawards.csv',\n",
       " 'LinusTech.csv',\n",
       " 'EA.csv',\n",
       " 'EddieMakuch.csv',\n",
       " 'CBSi.csv',\n",
       " 'WatchMixer.csv',\n",
       " 'justin_moore.csv',\n",
       " 'YouTubeGaming.csv',\n",
       " 'CNN.csv']"
      ]
     },
     "execution_count": 6,
     "metadata": {},
     "output_type": "execute_result"
    }
   ],
   "source": [
    "arr"
   ]
  },
  {
   "cell_type": "code",
   "execution_count": 16,
   "metadata": {},
   "outputs": [],
   "source": [
    "arr = [path + doc for doc in arr]\n",
    "fout=open(\"all_data_{0}.csv\".format(topico),\"a\")\n",
    "\n",
    "for line in open(arr[0]):\n",
    "    fout.write(line)\n",
    "\n",
    "for d in arr[1:]:\n",
    "    f = open(d)\n",
    "    r = f.readlines()[1:]\n",
    "    fout.write(\"\\n\".join(r))\n",
    "    f.close()\n",
    "    \n",
    "fout.close()"
   ]
  },
  {
   "cell_type": "code",
   "execution_count": 1,
   "metadata": {},
   "outputs": [],
   "source": [
    "# Merge tech files\n",
    "arr = ['all_data_ps.csv', 'all_data_xbox.csv']"
   ]
  },
  {
   "cell_type": "code",
   "execution_count": 30,
   "metadata": {},
   "outputs": [],
   "source": [
    "fout=open(\"all_tech_data.csv\".format(topico),\"a\")\n",
    "\n",
    "for line in open(arr[0]):\n",
    "    fout.write(line)\n",
    "\n",
    "for d in arr[1:]:\n",
    "    f = open(d)\n",
    "    r = f.readlines()[1:]\n",
    "    fout.write(\"\\n\".join(r))\n",
    "    f.close()\n",
    "    \n",
    "fout.close()"
   ]
  }
 ],
 "metadata": {
  "kernelspec": {
   "display_name": "Python 3",
   "language": "python",
   "name": "python3"
  },
  "language_info": {
   "codemirror_mode": {
    "name": "ipython",
    "version": 3
   },
   "file_extension": ".py",
   "mimetype": "text/x-python",
   "name": "python",
   "nbconvert_exporter": "python",
   "pygments_lexer": "ipython3",
   "version": "3.7.1"
  }
 },
 "nbformat": 4,
 "nbformat_minor": 2
}
